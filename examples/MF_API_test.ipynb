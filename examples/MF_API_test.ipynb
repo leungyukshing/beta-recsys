{
 "cells": [
  {
   "cell_type": "markdown",
   "metadata": {},
   "source": [
    "## Loading dataset"
   ]
  },
  {
   "cell_type": "code",
   "execution_count": 1,
   "metadata": {},
   "outputs": [
    {
     "name": "stdout",
     "output_type": "stream",
     "text": [
      "download_file: url: http://files.grouplens.org/datasets/movielens/ml-100k.zip, raw_file_path: /Users/zaiqiao/anaconda3/lib/python3.7/site-packages/beta_rec-0.2.1-py3.7.egg/datasets/ml_100k/raw/ml_100k.zip\n",
      "Start downloading file ml-100k.zip with url http://files.grouplens.org/datasets/movielens/ml-100k.zip...\n"
     ]
    },
    {
     "name": "stderr",
     "output_type": "stream",
     "text": [
      "100%|██████████| 4.92M/4.92M [00:03<00:00, 1.28MiB/s]\n"
     ]
    },
    {
     "name": "stdout",
     "output_type": "stream",
     "text": [
      "Success loading file ml-100k.zip to /Users/zaiqiao/anaconda3/lib/python3.7/site-packages/beta_rec-0.2.1-py3.7.egg/datasets/ml_100k/raw/ml_100k.zip\n",
      "Execute [download] method costing 4296.22 ms\n"
     ]
    },
    {
     "name": "stderr",
     "output_type": "stream",
     "text": [
      "  0%|          | 0/943 [00:00<?, ?it/s]"
     ]
    },
    {
     "name": "stdout",
     "output_type": "stream",
     "text": [
      "--------------------------------------------------------------------------------\n",
      "Loaded raw interaction statistics\n",
      "+---------+------------+------------+--------------+-----------------+\n",
      "|         | col_user   | col_item   | col_rating   | col_timestamp   |\n",
      "|---------+------------+------------+--------------+-----------------|\n",
      "| count   | 100000     | 100000     | 100000       | 100000          |\n",
      "| nunique | 943        | 1682       | 5            | 49282           |\n",
      "+---------+------------+------------+--------------+-----------------+\n",
      "--------------------------------------------------------------------------------\n",
      "filter_user_item under condition min_u_c=0, min_i_c=3\n",
      "--------------------------------------------------------------------------------\n",
      "Dataset statistics before filter\n",
      "+---------+------------+------------+--------------+-----------------+\n",
      "|         | col_user   | col_item   | col_rating   | col_timestamp   |\n",
      "|---------+------------+------------+--------------+-----------------|\n",
      "| count   | 100000     | 100000     | 100000       | 100000          |\n",
      "| nunique | 943        | 1682       | 5            | 49282           |\n",
      "+---------+------------+------------+--------------+-----------------+\n",
      "Dataset statistics after filter\n",
      "+---------+------------+------------+--------------+-----------------+\n",
      "|         | col_user   | col_item   | col_rating   | col_timestamp   |\n",
      "|---------+------------+------------+--------------+-----------------|\n",
      "| count   | 100000     | 100000     | 100000       | 100000          |\n",
      "| nunique | 943        | 1682       | 5            | 49282           |\n",
      "+---------+------------+------------+--------------+-----------------+\n",
      "--------------------------------------------------------------------------------\n",
      "Splitting data by leave_one_out ...\n",
      "leave_one_out\n"
     ]
    },
    {
     "name": "stderr",
     "output_type": "stream",
     "text": [
      "100%|██████████| 943/943 [00:05<00:00, 163.73it/s]\n"
     ]
    },
    {
     "name": "stdout",
     "output_type": "stream",
     "text": [
      "Data is dumped in : /Users/zaiqiao/anaconda3/lib/python3.7/site-packages/beta_rec-0.2.1-py3.7.egg/datasets/ml_100k/processed/leave_one_out/full_n_neg_100/train.npz\n",
      "Data is dumped in : /Users/zaiqiao/anaconda3/lib/python3.7/site-packages/beta_rec-0.2.1-py3.7.egg/datasets/ml_100k/processed/leave_one_out/full_n_neg_100/valid.npz\n",
      "Data is dumped in : /Users/zaiqiao/anaconda3/lib/python3.7/site-packages/beta_rec-0.2.1-py3.7.egg/datasets/ml_100k/processed/leave_one_out/full_n_neg_100/test.npz\n",
      "Filling alias table\n",
      "Data is dumped in : /Users/zaiqiao/anaconda3/lib/python3.7/site-packages/beta_rec-0.2.1-py3.7.egg/datasets/ml_100k/processed/leave_one_out/full_n_neg_100/valid_0.npz\n",
      "Data is dumped in : /Users/zaiqiao/anaconda3/lib/python3.7/site-packages/beta_rec-0.2.1-py3.7.egg/datasets/ml_100k/processed/leave_one_out/full_n_neg_100/test_0.npz\n",
      "Execute [make_leave_one_out] method costing 18616.24 ms\n",
      "--------------------------------------------------------------------------------\n",
      "Loaded training set statistics\n",
      "+---------+------------+------------+--------------+-----------------+\n",
      "|         | col_user   | col_item   | col_rating   | col_timestamp   |\n",
      "|---------+------------+------------+--------------+-----------------|\n",
      "| count   | 98114      | 98114      | 98114        | 98114           |\n",
      "| nunique | 943        | 1678       | 5            | 48241           |\n",
      "+---------+------------+------------+--------------+-----------------+\n",
      "valid_data_0 statistics\n",
      "+---------+------------+------------+--------------+-----------------+\n",
      "|         | col_user   | col_item   | col_rating   | col_timestamp   |\n",
      "|---------+------------+------------+--------------+-----------------|\n",
      "| count   | 95243      | 95243      | 95243        | 95243           |\n",
      "| nunique | 943        | 1613       | 6            | 1               |\n",
      "+---------+------------+------------+--------------+-----------------+\n",
      "test_data_0 statistics\n",
      "+---------+------------+------------+--------------+-----------------+\n",
      "|         | col_user   | col_item   | col_rating   | col_timestamp   |\n",
      "|---------+------------+------------+--------------+-----------------|\n",
      "| count   | 95243      | 95243      | 95243        | 95243           |\n",
      "| nunique | 943        | 1629       | 6            | 1               |\n",
      "+---------+------------+------------+--------------+-----------------+\n",
      "--------------------------------------------------------------------------------\n",
      "After intersection, testing set [0] statistics\n",
      "+---------+------------+------------+--------------+-----------------+\n",
      "|         | col_user   | col_item   | col_rating   | col_timestamp   |\n",
      "|---------+------------+------------+--------------+-----------------|\n",
      "| count   | 95239      | 95239      | 95239        | 95239           |\n",
      "| nunique | 943        | 1626       | 6            | 1               |\n",
      "+---------+------------+------------+--------------+-----------------+\n",
      "After intersection, validation set [0] statistics\n",
      "+---------+------------+------------+--------------+-----------------+\n",
      "|         | col_user   | col_item   | col_rating   | col_timestamp   |\n",
      "|---------+------------+------------+--------------+-----------------|\n",
      "| count   | 95235      | 95235      | 95235        | 95235           |\n",
      "| nunique | 943        | 1609       | 6            | 1               |\n",
      "+---------+------------+------------+--------------+-----------------+\n",
      "Filling alias table\n",
      "Filling alias table\n"
     ]
    }
   ],
   "source": [
    "from beta_rec.datasets.movielens import Movielens_100k\n",
    "from beta_rec.data import BaseData\n",
    "dataset = Movielens_100k()\n",
    "split_dataset = dataset.load_leave_one_out(n_test=1)\n",
    "data =  BaseData(split_dataset)"
   ]
  },
  {
   "cell_type": "markdown",
   "metadata": {},
   "source": [
    "### Model config"
   ]
  },
  {
   "cell_type": "code",
   "execution_count": 2,
   "metadata": {},
   "outputs": [],
   "source": [
    "config = {\n",
    "    \"config_file\":\"../configs/mf_default.json\"\n",
    "}\n",
    "# the 'config_file' key is required, that is used load a default config. Other keys can be specified to replace the default settings."
   ]
  },
  {
   "cell_type": "markdown",
   "metadata": {},
   "source": [
    "### Model intialization and training"
   ]
  },
  {
   "cell_type": "code",
   "execution_count": 3,
   "metadata": {},
   "outputs": [
    {
     "name": "stdout",
     "output_type": "stream",
     "text": [
      "loading config file ../configs/mf_default.json\n",
      "--------------------------------------------------------------------------------\n",
      "Received parameters from command line (or default):\n",
      "+--------+----------+\n",
      "| keys   | values   |\n",
      "|--------+----------|\n",
      "+--------+----------+\n",
      "--------------------------------------------------------------------------------\n",
      "logs will save in file: /Users/zaiqiao/Workspace/beta_rec/logs/MF_default_20201004_232119_rpvtin .stdout.log .stderr.log\n",
      "2020-10-04 23:21:19 [INFO]-\n",
      "Python version: 3.7.6 (default, Jan  8 2020, 13:42:34) \n",
      "[Clang 4.0.1 (tags/RELEASE_401/final)\n",
      "2020-10-04 23:21:19 [INFO]-\n",
      "2020-10-04 23:21:19 [INFO]-pytorch version: 1.6.0\n",
      "2020-10-04 23:21:19 [INFO]-The intermediate running statuses will be reported in folder: /Users/zaiqiao/Workspace/beta_rec/runs/MF_default_20201004_232119_rpvtin\n",
      "2020-10-04 23:21:19 [INFO]-Model checkpoint will save in file: /Users/zaiqiao/Workspace/beta_rec/checkpoints/MF_default_20201004_232119_rpvtin\n",
      "2020-10-04 23:21:19 [INFO]-Performance result will save in file: /Users/zaiqiao/Workspace/beta_rec/results/mf_result.csv\n",
      "2020-10-04 23:21:19 [INFO]---------------------------------------------------------------------------------\n",
      "2020-10-04 23:21:19 [INFO]-System configs\n",
      "2020-10-04 23:21:19 [INFO]-\n",
      "+----+----------------+---------------------------------------------------------------------------------+\n",
      "|    | keys           | values                                                                          |\n",
      "|----+----------------+---------------------------------------------------------------------------------|\n",
      "|  0 | root_dir       | /Users/zaiqiao/Workspace/beta_rec                                               |\n",
      "|  1 | log_dir        | logs/                                                                           |\n",
      "|  2 | result_dir     | results/                                                                        |\n",
      "|  3 | process_dir    | /Users/zaiqiao/Workspace/beta_rec/processes/                                    |\n",
      "|  4 | checkpoint_dir | checkpoints/                                                                    |\n",
      "|  5 | dataset_dir    | datasets/                                                                       |\n",
      "|  6 | run_dir        | /Users/zaiqiao/Workspace/beta_rec/runs/MF_default_20201004_232119_rpvtin        |\n",
      "|  7 | tune_dir       | /Users/zaiqiao/Workspace/beta_rec/tune_results/                                 |\n",
      "|  8 | device         | gpu                                                                             |\n",
      "|  9 | seed           | 2020                                                                            |\n",
      "| 10 | metrics        | ['ndcg', 'precision', 'recall', 'map']                                          |\n",
      "| 11 | k              | [5, 10, 20]                                                                     |\n",
      "| 12 | valid_metric   | ndcg                                                                            |\n",
      "| 13 | valid_k        | 10                                                                              |\n",
      "| 14 | result_file    | /Users/zaiqiao/Workspace/beta_rec/results/mf_result.csv                         |\n",
      "| 15 | model_run_id   | MF_default_20201004_232119_rpvtin                                               |\n",
      "| 16 | log_file       | /Users/zaiqiao/Workspace/beta_rec/logs/MF_default_20201004_232119_rpvtin        |\n",
      "| 17 | model_save_dir | /Users/zaiqiao/Workspace/beta_rec/checkpoints/MF_default_20201004_232119_rpvtin |\n",
      "+----+----------------+---------------------------------------------------------------------------------\n",
      "2020-10-04 23:21:19 [INFO]-\n",
      "2020-10-04 23:21:19 [INFO]---------------------------------------------------------------------------------\n",
      "2020-10-04 23:21:19 [INFO]-port 8003 is available. start_http_server.\n",
      "2020-10-04 23:21:19 [INFO]-Initializing test engine ...\n",
      "2020-10-04 23:21:19 [INFO]---------------------------------------------------------------------------------\n",
      "2020-10-04 23:21:19 [INFO]-MF model config\n",
      "2020-10-04 23:21:19 [INFO]-\n",
      "+----+--------------+---------------------------------------------------------------------------------+\n",
      "|    | keys         | values                                                                          |\n",
      "|----+--------------+---------------------------------------------------------------------------------|\n",
      "|  0 | model        | MF                                                                              |\n",
      "|  1 | config_id    | default                                                                         |\n",
      "|  2 | emb_dim      | 64                                                                              |\n",
      "|  3 | num_negative | 4                                                                               |\n",
      "|  4 | batch_size   | 400                                                                             |\n",
      "|  5 | batch_eval   | True                                                                            |\n",
      "|  6 | dropout      | 0.0                                                                             |\n",
      "|  7 | optimizer    | adam                                                                            |\n",
      "|  8 | loss         | bpr                                                                             |\n",
      "|  9 | lr           | 0.05                                                                            |\n",
      "| 10 | reg          | 0.001                                                                           |\n",
      "| 11 | max_epoch    | 20                                                                              |\n",
      "| 12 | save_name    | mf.model                                                                        |\n",
      "| 13 | result_col   | ['model', 'emb_dim', 'batch_size', 'dropout', 'optimizer', 'loss', 'lr', 'reg'] |\n",
      "| 14 | run_dir      | /Users/zaiqiao/Workspace/beta_rec/runs/MF_default_20201004_232119_rpvtin        |\n",
      "| 15 | device_str   | cpu                                                                             |\n",
      "| 16 | n_users      | 943                                                                             |\n",
      "| 17 | n_items      | 1678                                                                            |\n",
      "+----+--------------+---------------------------------------------------------------------------------\n",
      "2020-10-04 23:21:19 [INFO]-\n",
      "2020-10-04 23:21:19 [INFO]---------------------------------------------------------------------------------\n",
      "2020-10-04 23:21:19 [INFO]-Setting device for torch_engine cpu\n",
      "2020-10-04 23:21:19 [INFO]-\n",
      "MF(\n",
      "  (user_emb): Embedding(943, 64)\n",
      "  (item_emb): Embedding(1678, 64)\n",
      "  (user_bias): Embedding(943, 1)\n",
      "  (item_bias): Embedding(1678, 1)\n",
      "\n",
      "2020-10-04 23:21:19 [INFO]-\n",
      "2020-10-04 23:21:19 [INFO]-using bpr loss...\n",
      "2020-10-04 23:21:36 [INFO]-Making PairwiseNegativeDataset of length 98114\n",
      "  0%|          | 0/20 [00:00<?, ?it/s]Epoch 0 starts !\n",
      "2020-10-04 23:21:37 [INFO]---------------------------------------------------------------------------------\n",
      "2020-10-04 23:21:41 [INFO]-[Training Epoch 0], Loss 0.4577200710773468, Regularizer 19420.059809684753\n",
      "2020-10-04 23:21:41 [INFO]-Execute [train_an_epoch] method costing 4350.09 ms\n",
      "  5%|5         | 1/20 [00:04<01:27,  4.59s/it]Epoch 1 starts !\n",
      "2020-10-04 23:21:41 [INFO]---------------------------------------------------------------------------------\n",
      "2020-10-04 23:21:50 [INFO]-Current testEngine.best_valid_performance 0\n",
      "2020-10-04 23:21:50 [INFO]---------------------------------------------------------------------------------\n",
      "2020-10-04 23:21:50 [INFO]-performance on validation at epoch 0\n",
      "2020-10-04 23:21:50 [INFO]-\n",
      "+----+--------------+-----------+\n",
      "|    | metrics      |    values |\n",
      "|----+--------------+-----------|\n",
      "|  0 | ndcg@10      | 0.0830191 |\n",
      "|  1 | precision@10 | 0.0177471 |\n",
      "|  2 | recall@10    | 0.177471  |\n",
      "|  3 | map@10       | 0.0546814 |\n",
      "+----+--------------+-----------\n",
      "2020-10-04 23:21:50 [INFO]-\n",
      "2020-10-04 23:21:50 [INFO]---------------------------------------------------------------------------------\n",
      "2020-10-04 23:21:50 [INFO]---------------------------------------------------------------------------------\n",
      "2020-10-04 23:21:50 [INFO]-performance on testing at epoch 0\n",
      "2020-10-04 23:21:50 [INFO]-\n",
      "+----+--------------+-----------+\n",
      "|    | metrics      |    values |\n",
      "|----+--------------+-----------|\n",
      "|  0 | ndcg@10      | 0.074922  |\n",
      "|  1 | precision@10 | 0.016153  |\n",
      "|  2 | recall@10    | 0.16153   |\n",
      "|  3 | map@10       | 0.0491878 |\n",
      "+----+--------------+-----------\n",
      "2020-10-04 23:21:50 [INFO]-\n",
      "2020-10-04 23:21:50 [INFO]---------------------------------------------------------------------------------\n",
      "2020-10-04 23:21:50 [INFO]-Execute [train_eval_worker] method costing 9337.39 ms\n",
      "2020-10-04 23:21:54 [INFO]-[Training Epoch 1], Loss 0.4531886577606201, Regularizer 49226.764068603516\n",
      "2020-10-04 23:21:54 [INFO]-Execute [train_an_epoch] method costing 13045.46 ms\n",
      " 10%|#         | 2/20 [00:17<02:08,  7.17s/it]Epoch 2 starts !\n",
      "2020-10-04 23:21:54 [INFO]---------------------------------------------------------------------------------\n",
      "2020-10-04 23:22:02 [INFO]-Current testEngine.best_valid_performance 0.08301906999841696\n",
      "2020-10-04 23:22:02 [INFO]---------------------------------------------------------------------------------\n",
      "2020-10-04 23:22:02 [INFO]-performance on validation at epoch 1\n",
      "2020-10-04 23:22:02 [INFO]-\n",
      "+----+--------------+-----------+\n",
      "|    | metrics      |    values |\n",
      "|----+--------------+-----------|\n",
      "|  0 | ndcg@10      | 0.0848784 |\n",
      "|  1 | precision@10 | 0.0179596 |\n",
      "|  2 | recall@10    | 0.179596  |\n",
      "|  3 | map@10       | 0.0568565 |\n",
      "+----+--------------+-----------\n",
      "2020-10-04 23:22:02 [INFO]-\n",
      "2020-10-04 23:22:02 [INFO]---------------------------------------------------------------------------------\n",
      "2020-10-04 23:22:02 [INFO]---------------------------------------------------------------------------------\n",
      "2020-10-04 23:22:02 [INFO]-performance on testing at epoch 1\n",
      "2020-10-04 23:22:02 [INFO]-\n",
      "+----+--------------+-----------+\n",
      "|    | metrics      |    values |\n",
      "|----+--------------+-----------|\n",
      "|  0 | ndcg@10      | 0.0837148 |\n",
      "|  1 | precision@10 | 0.0176408 |\n",
      "|  2 | recall@10    | 0.176408  |\n",
      "|  3 | map@10       | 0.0561957 |\n",
      "+----+--------------+-----------\n",
      "2020-10-04 23:22:02 [INFO]-\n",
      "2020-10-04 23:22:02 [INFO]---------------------------------------------------------------------------------\n",
      "2020-10-04 23:22:02 [INFO]-Execute [train_eval_worker] method costing 8009.32 ms\n",
      "2020-10-04 23:22:06 [INFO]-[Training Epoch 2], Loss 0.46525266766548157, Regularizer 83253.11291503906\n",
      "2020-10-04 23:22:06 [INFO]-Execute [train_an_epoch] method costing 12086.43 ms\n",
      " 15%|#5        | 3/20 [00:30<02:28,  8.71s/it]Epoch 3 starts !\n",
      "2020-10-04 23:22:07 [INFO]---------------------------------------------------------------------------------\n",
      "2020-10-04 23:22:15 [INFO]-Current testEngine.best_valid_performance 0.08487838878221098\n",
      "2020-10-04 23:22:15 [INFO]---------------------------------------------------------------------------------\n",
      "2020-10-04 23:22:15 [INFO]-performance on validation at epoch 2\n",
      "2020-10-04 23:22:15 [INFO]-\n",
      "+----+--------------+-----------+\n",
      "|    | metrics      |    values |\n",
      "|----+--------------+-----------|\n",
      "|  0 | ndcg@10      | 0.085452  |\n",
      "|  1 | precision@10 | 0.0182784 |\n",
      "|  2 | recall@10    | 0.182784  |\n",
      "|  3 | map@10       | 0.056563  |\n",
      "+----+--------------+-----------\n",
      "2020-10-04 23:22:15 [INFO]-\n",
      "2020-10-04 23:22:15 [INFO]---------------------------------------------------------------------------------\n",
      "2020-10-04 23:22:15 [INFO]---------------------------------------------------------------------------------\n",
      "2020-10-04 23:22:15 [INFO]-performance on testing at epoch 2\n",
      "2020-10-04 23:22:15 [INFO]-\n",
      "+----+--------------+-----------+\n",
      "|    | metrics      |    values |\n",
      "|----+--------------+-----------|\n",
      "|  0 | ndcg@10      | 0.0750211 |\n",
      "|  1 | precision@10 | 0.0160468 |\n",
      "|  2 | recall@10    | 0.160468  |\n",
      "|  3 | map@10       | 0.0496959 |\n",
      "+----+--------------+-----------\n",
      "2020-10-04 23:22:15 [INFO]-\n",
      "2020-10-04 23:22:15 [INFO]---------------------------------------------------------------------------------\n",
      "2020-10-04 23:22:15 [INFO]-Execute [train_eval_worker] method costing 8693.05 ms\n",
      "2020-10-04 23:22:19 [INFO]-[Training Epoch 3], Loss 0.4274713397026062, Regularizer 116045.53930664062\n",
      "2020-10-04 23:22:19 [INFO]-Execute [train_an_epoch] method costing 12455.96 ms\n",
      " 20%|##        | 4/20 [00:42<02:38,  9.90s/it]Epoch 4 starts !\n",
      "2020-10-04 23:22:19 [INFO]---------------------------------------------------------------------------------\n",
      "2020-10-04 23:22:27 [INFO]-number of epochs that have no update 1\n",
      "2020-10-04 23:22:27 [INFO]-Execute [train_eval_worker] method costing 7386.99 ms\n",
      "2020-10-04 23:22:31 [INFO]-[Training Epoch 4], Loss 0.42531564831733704, Regularizer 148851.474609375\n",
      "2020-10-04 23:22:31 [INFO]-Execute [train_an_epoch] method costing 11212.05 ms\n",
      " 25%|##5       | 5/20 [00:54<02:35, 10.36s/it]Epoch 5 starts !\n",
      "2020-10-04 23:22:31 [INFO]---------------------------------------------------------------------------------\n",
      "2020-10-04 23:22:37 [INFO]-number of epochs that have no update 2\n",
      "2020-10-04 23:22:37 [INFO]-Execute [train_eval_worker] method costing 6337.93 ms\n",
      "2020-10-04 23:22:41 [INFO]-[Training Epoch 5], Loss 0.4029378592967987, Regularizer 181555.044921875\n",
      "2020-10-04 23:22:41 [INFO]-Execute [train_an_epoch] method costing 10011.85 ms\n",
      " 30%|###       | 6/20 [01:04<02:24, 10.29s/it]Epoch 6 starts !\n",
      "2020-10-04 23:22:41 [INFO]---------------------------------------------------------------------------------\n",
      "2020-10-04 23:22:49 [INFO]-number of epochs that have no update 3\n",
      "2020-10-04 23:22:49 [INFO]-Execute [train_eval_worker] method costing 8420.55 ms\n",
      "2020-10-04 23:22:55 [INFO]-[Training Epoch 6], Loss 0.40104490518569946, Regularizer 212692.9110107422\n",
      "2020-10-04 23:22:55 [INFO]-Execute [train_an_epoch] method costing 13892.96 ms\n",
      " 35%|###5      | 7/20 [01:18<02:28, 11.43s/it]Epoch 7 starts !\n",
      "2020-10-04 23:22:55 [INFO]---------------------------------------------------------------------------------\n",
      "2020-10-04 23:23:02 [INFO]-number of epochs that have no update 4\n",
      "2020-10-04 23:23:02 [INFO]-Execute [train_eval_worker] method costing 6877.85 ms\n",
      "2020-10-04 23:23:07 [INFO]-[Training Epoch 7], Loss 0.39479565620422363, Regularizer 242499.70782470703\n",
      "2020-10-04 23:23:07 [INFO]-Execute [train_an_epoch] method costing 12109.55 ms\n",
      " 40%|####      | 8/20 [01:30<02:20, 11.69s/it]Epoch 8 starts !\n",
      "2020-10-04 23:23:07 [INFO]---------------------------------------------------------------------------------\n",
      "2020-10-04 23:23:14 [INFO]-number of epochs that have no update 5\n",
      "2020-10-04 23:23:14 [INFO]-Execute [train_eval_worker] method costing 6458.55 ms\n",
      "2020-10-04 23:23:18 [INFO]-[Training Epoch 8], Loss 0.41241753101348877, Regularizer 272168.8942871094\n",
      "2020-10-04 23:23:18 [INFO]-Execute [train_an_epoch] method costing 10731.59 ms\n",
      " 45%|####5     | 9/20 [01:41<02:05, 11.44s/it]Epoch 9 starts !\n",
      "2020-10-04 23:23:18 [INFO]---------------------------------------------------------------------------------\n",
      "2020-10-04 23:23:18 [INFO]-Early stop criterion triggered, no performance update for 5 times\n",
      " 45%|####5     | 9/20 [01:41<02:04, 11.30s/it]\n",
      "2020-10-04 23:23:18 [INFO]-Program running time:119 seconds\n"
     ]
    },
    {
     "data": {
      "text/plain": [
       "{'valid_metric': 0.0854520387633778,\n",
       " 'model_save_dir': '/Users/zaiqiao/Workspace/beta_rec/checkpoints/MF_default_20201004_232119_rpvtin/mf.model'}"
      ]
     },
     "execution_count": 3,
     "metadata": {},
     "output_type": "execute_result"
    },
    {
     "name": "stdout",
     "output_type": "stream",
     "text": [
      "2020-10-04 23:23:26 [INFO]-number of epochs that have no update 6\n",
      "2020-10-04 23:23:26 [INFO]-Execute [train_eval_worker] method costing 8105.76 ms\n"
     ]
    }
   ],
   "source": [
    "from beta_rec.recommenders import MatrixFactorization\n",
    "model = MatrixFactorization(config)\n",
    "model.train(data)\n",
    "\n",
    "# @To be discussed\n",
    "# model.train(train_df) # Case 1, without validation, stop training by loss or max_epoch\n",
    "# model.train(train_df,valid_df[0]) # Case 2, with validation, stop training by performance on validation set\n",
    "# model.train(train_df,valid_df[0],test_df[0])  # Case 3, same as Case 2, but also evaluate performance for each epoch on test set.\n",
    "\n",
    "## Note that the best model will be save automatically, and record the model-save-dir."
   ]
  },
  {
   "cell_type": "markdown",
   "metadata": {},
   "source": [
    "### Model trainng"
   ]
  },
  {
   "cell_type": "code",
   "execution_count": null,
   "metadata": {},
   "outputs": [],
   "source": [
    "model.test(data.test[0])"
   ]
  },
  {
   "cell_type": "markdown",
   "metadata": {},
   "source": [
    "### Load a pre-trained Model, and Predict for new dataset"
   ]
  },
  {
   "cell_type": "code",
   "execution_count": null,
   "metadata": {},
   "outputs": [],
   "source": [
    "from beta_rec.recommenders import MatrixFactorization\n",
    "config = {\n",
    "    \"config_file\":\"../configs/mf_default.json\",\n",
    "}\n",
    "# model_dir = model.config[\"system\"][\"model_save_dir\"] # default saving dir for current model\n",
    "model_dir = \"/home/zm324/workspace/beta_rec/checkpoints/MF_default_20200912_173445_gccwwj/mf.model\" # a specfic model\n",
    "model = MatrixFactorization(config)\n",
    "model.init_engine(data) \n",
    "# this is necessary, since we cannot intialize a model before we get the the numbers of users and items\n",
    "\n",
    "model.load(model_dir = model_dir)\n",
    "scores = model.predict(data.test[0])\n",
    "scores"
   ]
  },
  {
   "cell_type": "code",
   "execution_count": null,
   "metadata": {},
   "outputs": [],
   "source": [
    "scores.shape"
   ]
  },
  {
   "cell_type": "markdown",
   "metadata": {},
   "source": [
    "## Model tuning"
   ]
  },
  {
   "cell_type": "code",
   "execution_count": null,
   "metadata": {},
   "outputs": [],
   "source": [
    "## Before using tune, you need to install beta_rec to your local python lib\n",
    "## E.g. go to the project folder, run:\n",
    "## python setup.py install --record files.txt\n",
    "\n",
    "## if something wrong, you can uninstall by: xargs rm -rf < files.txt\n",
    "from beta_rec.datasets.movielens import Movielens_100k\n",
    "from beta_rec.data import BaseData\n",
    "dataset = Movielens_100k()\n",
    "split_dataset = dataset.load_leave_one_out(n_test=1)\n",
    "data =  BaseData(split_dataset)\n",
    "\n",
    "config = {\n",
    "    \"config_file\":\"../configs/mf_default.json\",\n",
    "    \"tune\":True,\n",
    "    \"max_epoch\":2\n",
    "}\n",
    "from beta_rec.recommenders import MatrixFactorization\n",
    "model = MatrixFactorization(config)\n",
    "tune_result = model.train(data)\n",
    "tune_result"
   ]
  },
  {
   "cell_type": "markdown",
   "metadata": {},
   "source": [
    "### Note that ray version should be 0.8.5.\n"
   ]
  },
  {
   "cell_type": "code",
   "execution_count": null,
   "metadata": {},
   "outputs": [],
   "source": [
    "import ray\n",
    "ray.__version__\n",
    "ray.init()"
   ]
  },
  {
   "cell_type": "code",
   "execution_count": null,
   "metadata": {},
   "outputs": [],
   "source": []
  },
  {
   "cell_type": "code",
   "execution_count": null,
   "metadata": {},
   "outputs": [],
   "source": []
  }
 ],
 "metadata": {
  "kernelspec": {
   "display_name": "Python 3",
   "language": "python",
   "name": "python3"
  },
  "language_info": {
   "codemirror_mode": {
    "name": "ipython",
    "version": 3
   },
   "file_extension": ".py",
   "mimetype": "text/x-python",
   "name": "python",
   "nbconvert_exporter": "python",
   "pygments_lexer": "ipython3",
   "version": "3.7.6"
  }
 },
 "nbformat": 4,
 "nbformat_minor": 4
}
